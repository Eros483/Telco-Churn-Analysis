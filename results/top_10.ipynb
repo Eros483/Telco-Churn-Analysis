{
 "cells": [
  {
   "cell_type": "code",
   "execution_count": 7,
   "id": "3f46dbe8",
   "metadata": {},
   "outputs": [],
   "source": [
    "import pandas as pd\n",
    "import uuid\n",
    "\n",
    "feature_df = pd.read_csv(\"feature_importance.csv\")\n",
    "top_10 = feature_df.sort_values(by=\"mean_abs_shap\", ascending=False).head(10)\n",
    "top_10.to_csv(\"top_10_features.csv\", index=False)"
   ]
  },
  {
   "cell_type": "code",
   "execution_count": 8,
   "id": "cc90e60f",
   "metadata": {},
   "outputs": [],
   "source": [
    "top_10_features=[]\n",
    "for feature in top_10['feature']:\n",
    "    top_10_features.append(feature)\n",
    "\n",
    "top_10_features.append('churn_label')"
   ]
  },
  {
   "cell_type": "code",
   "execution_count": 9,
   "id": "2c7b1b3d",
   "metadata": {},
   "outputs": [
    {
     "name": "stdout",
     "output_type": "stream",
     "text": [
      "['Dependents', 'Contract_Two year_True', 'Contract_One year_True', 'tenure', 'Internet Service_Fiber optic_False', 'Payment Method_Electronic check_False', 'Multiple Lines_Yes_False', 'Online Security_Yes_True', 'Tech Support_Yes_True', 'Online Backup_Yes_True', 'churn_label']\n"
     ]
    }
   ],
   "source": [
    "print(top_10_features)"
   ]
  },
  {
   "cell_type": "code",
   "execution_count": 10,
   "id": "37bef1ed",
   "metadata": {},
   "outputs": [],
   "source": [
    "df=pd.read_csv(\"D:\\personalCode\\churn-prediction\\data\\processed_telco_churn.csv\")"
   ]
  },
  {
   "cell_type": "code",
   "execution_count": 11,
   "id": "76bddf93",
   "metadata": {},
   "outputs": [
    {
     "name": "stderr",
     "output_type": "stream",
     "text": [
      "C:\\Users\\arnab\\AppData\\Local\\Temp\\ipykernel_30164\\3010782492.py:5: FutureWarning: Downcasting behavior in `replace` is deprecated and will be removed in a future version. To retain the old behavior, explicitly call `result.infer_objects(copy=False)`. To opt-in to the future behavior, set `pd.set_option('future.no_silent_downcasting', True)`\n",
      "  df = df.replace({1: True, 0: False})\n"
     ]
    }
   ],
   "source": [
    "for column in df.columns:\n",
    "    if column not in top_10_features:\n",
    "        df.drop(columns=[column], inplace=True)\n",
    "\n",
    "df = df.replace({1: True, 0: False})\n",
    "\n",
    "df['mem_id']=[str(uuid.uuid4) for _ in range(len(df))]"
   ]
  },
  {
   "cell_type": "code",
   "execution_count": 12,
   "id": "34eff20f",
   "metadata": {},
   "outputs": [],
   "source": [
    "df.to_csv(\"top_10_features_telco_churn.csv\", index=False)"
   ]
  },
  {
   "cell_type": "code",
   "execution_count": 13,
   "id": "b04a2f41",
   "metadata": {},
   "outputs": [
    {
     "data": {
      "text/html": [
       "<div>\n",
       "<style scoped>\n",
       "    .dataframe tbody tr th:only-of-type {\n",
       "        vertical-align: middle;\n",
       "    }\n",
       "\n",
       "    .dataframe tbody tr th {\n",
       "        vertical-align: top;\n",
       "    }\n",
       "\n",
       "    .dataframe thead th {\n",
       "        text-align: right;\n",
       "    }\n",
       "</style>\n",
       "<table border=\"1\" class=\"dataframe\">\n",
       "  <thead>\n",
       "    <tr style=\"text-align: right;\">\n",
       "      <th></th>\n",
       "      <th>Dependents</th>\n",
       "      <th>tenure</th>\n",
       "      <th>Multiple Lines_Yes_False</th>\n",
       "      <th>Internet Service_Fiber optic_False</th>\n",
       "      <th>Online Security_Yes_True</th>\n",
       "      <th>Online Backup_Yes_True</th>\n",
       "      <th>Tech Support_Yes_True</th>\n",
       "      <th>Contract_One year_True</th>\n",
       "      <th>Contract_Two year_True</th>\n",
       "      <th>Payment Method_Electronic check_False</th>\n",
       "      <th>churn_label</th>\n",
       "      <th>mem_id</th>\n",
       "    </tr>\n",
       "  </thead>\n",
       "  <tbody>\n",
       "    <tr>\n",
       "      <th>0</th>\n",
       "      <td>False</td>\n",
       "      <td>-1.239504</td>\n",
       "      <td>True</td>\n",
       "      <td>True</td>\n",
       "      <td>True</td>\n",
       "      <td>True</td>\n",
       "      <td>False</td>\n",
       "      <td>False</td>\n",
       "      <td>False</td>\n",
       "      <td>True</td>\n",
       "      <td>True</td>\n",
       "      <td>&lt;function uuid4 at 0x000002997CC0E9E0&gt;</td>\n",
       "    </tr>\n",
       "    <tr>\n",
       "      <th>1</th>\n",
       "      <td>True</td>\n",
       "      <td>-1.239504</td>\n",
       "      <td>True</td>\n",
       "      <td>False</td>\n",
       "      <td>False</td>\n",
       "      <td>False</td>\n",
       "      <td>False</td>\n",
       "      <td>False</td>\n",
       "      <td>False</td>\n",
       "      <td>False</td>\n",
       "      <td>True</td>\n",
       "      <td>&lt;function uuid4 at 0x000002997CC0E9E0&gt;</td>\n",
       "    </tr>\n",
       "    <tr>\n",
       "      <th>2</th>\n",
       "      <td>True</td>\n",
       "      <td>-0.995040</td>\n",
       "      <td>False</td>\n",
       "      <td>False</td>\n",
       "      <td>False</td>\n",
       "      <td>False</td>\n",
       "      <td>False</td>\n",
       "      <td>False</td>\n",
       "      <td>False</td>\n",
       "      <td>False</td>\n",
       "      <td>True</td>\n",
       "      <td>&lt;function uuid4 at 0x000002997CC0E9E0&gt;</td>\n",
       "    </tr>\n",
       "    <tr>\n",
       "      <th>3</th>\n",
       "      <td>True</td>\n",
       "      <td>-0.180161</td>\n",
       "      <td>False</td>\n",
       "      <td>False</td>\n",
       "      <td>False</td>\n",
       "      <td>False</td>\n",
       "      <td>True</td>\n",
       "      <td>False</td>\n",
       "      <td>False</td>\n",
       "      <td>False</td>\n",
       "      <td>True</td>\n",
       "      <td>&lt;function uuid4 at 0x000002997CC0E9E0&gt;</td>\n",
       "    </tr>\n",
       "    <tr>\n",
       "      <th>4</th>\n",
       "      <td>True</td>\n",
       "      <td>0.675462</td>\n",
       "      <td>False</td>\n",
       "      <td>False</td>\n",
       "      <td>False</td>\n",
       "      <td>True</td>\n",
       "      <td>False</td>\n",
       "      <td>False</td>\n",
       "      <td>False</td>\n",
       "      <td>True</td>\n",
       "      <td>True</td>\n",
       "      <td>&lt;function uuid4 at 0x000002997CC0E9E0&gt;</td>\n",
       "    </tr>\n",
       "  </tbody>\n",
       "</table>\n",
       "</div>"
      ],
      "text/plain": [
       "   Dependents    tenure  Multiple Lines_Yes_False  \\\n",
       "0       False -1.239504                      True   \n",
       "1        True -1.239504                      True   \n",
       "2        True -0.995040                     False   \n",
       "3        True -0.180161                     False   \n",
       "4        True  0.675462                     False   \n",
       "\n",
       "   Internet Service_Fiber optic_False  Online Security_Yes_True  \\\n",
       "0                                True                      True   \n",
       "1                               False                     False   \n",
       "2                               False                     False   \n",
       "3                               False                     False   \n",
       "4                               False                     False   \n",
       "\n",
       "   Online Backup_Yes_True  Tech Support_Yes_True  Contract_One year_True  \\\n",
       "0                    True                  False                   False   \n",
       "1                   False                  False                   False   \n",
       "2                   False                  False                   False   \n",
       "3                   False                   True                   False   \n",
       "4                    True                  False                   False   \n",
       "\n",
       "   Contract_Two year_True  Payment Method_Electronic check_False  churn_label  \\\n",
       "0                   False                                   True         True   \n",
       "1                   False                                  False         True   \n",
       "2                   False                                  False         True   \n",
       "3                   False                                  False         True   \n",
       "4                   False                                   True         True   \n",
       "\n",
       "                                   mem_id  \n",
       "0  <function uuid4 at 0x000002997CC0E9E0>  \n",
       "1  <function uuid4 at 0x000002997CC0E9E0>  \n",
       "2  <function uuid4 at 0x000002997CC0E9E0>  \n",
       "3  <function uuid4 at 0x000002997CC0E9E0>  \n",
       "4  <function uuid4 at 0x000002997CC0E9E0>  "
      ]
     },
     "execution_count": 13,
     "metadata": {},
     "output_type": "execute_result"
    }
   ],
   "source": [
    "df.head()\n"
   ]
  },
  {
   "cell_type": "code",
   "execution_count": 14,
   "id": "da93bdac",
   "metadata": {},
   "outputs": [],
   "source": [
    "df['tenure'].to_csv(\"tenure.csv\", index=False)"
   ]
  }
 ],
 "metadata": {
  "kernelspec": {
   "display_name": "telco-churn",
   "language": "python",
   "name": "python3"
  },
  "language_info": {
   "codemirror_mode": {
    "name": "ipython",
    "version": 3
   },
   "file_extension": ".py",
   "mimetype": "text/x-python",
   "name": "python",
   "nbconvert_exporter": "python",
   "pygments_lexer": "ipython3",
   "version": "3.10.16"
  }
 },
 "nbformat": 4,
 "nbformat_minor": 5
}
